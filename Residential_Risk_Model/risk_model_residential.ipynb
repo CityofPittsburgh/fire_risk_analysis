{
 "cells": [
  {
   "cell_type": "code",
   "execution_count": 1,
   "metadata": {
    "collapsed": false,
    "scrolled": true
   },
   "outputs": [
    {
     "name": "stderr",
     "output_type": "stream",
     "text": [
      "E:\\Program Files\\Anaconda3\\envs\\crookshanks\\lib\\site-packages\\sklearn\\cross_validation.py:41: DeprecationWarning: This module was deprecated in version 0.18 in favor of the model_selection module into which all the refactored classes and functions are moved. Also note that the interface of the new CV iterators are different from that of this module. This module will be removed in 0.20.\n",
      "  \"This module will be removed in 0.20.\", DeprecationWarning)\n",
      "E:\\Program Files\\Anaconda3\\envs\\crookshanks\\lib\\site-packages\\sklearn\\grid_search.py:42: DeprecationWarning: This module was deprecated in version 0.18 in favor of the model_selection module into which all the refactored classes and functions are moved. This module will be removed in 0.20.\n",
      "  DeprecationWarning)\n"
     ]
    }
   ],
   "source": [
    "# importing relevant libraries\n",
    "import matplotlib\n",
    "# Force matplotlib to not use any Xwindows backend.\n",
    "# matplotlib.use('Agg')\n",
    "import pandas as pd\n",
    "import numpy as np\n",
    "import sqlalchemy as sa\n",
    "import matplotlib.pyplot as plt\n",
    "import pandas as pd\n",
    "from sklearn import datasets, linear_model, cross_validation, grid_search\n",
    "import numpy as np\n",
    "import pandas as pd\n",
    "from sklearn.preprocessing import StandardScaler\n",
    "from sklearn.ensemble import RandomForestClassifier\n",
    "from sklearn.cross_validation import KFold, StratifiedKFold, cross_val_score\n",
    "from sklearn.pipeline import Pipeline\n",
    "from sklearn.linear_model import LogisticRegression\n",
    "from sklearn.model_selection import GridSearchCV\n",
    "from sklearn.metrics import classification_report\n",
    "from sklearn.model_selection import TimeSeriesSplit\n",
    "from sklearn_pandas import DataFrameMapper\n",
    "from sklearn.preprocessing import OneHotEncoder\n",
    "from sklearn import metrics\n",
    "from sklearn.metrics import confusion_matrix\n",
    "from sklearn.metrics import cohen_kappa_score\n",
    "from xgboost import XGBClassifier\n",
    "from sklearn.ensemble import ExtraTreesClassifier\n",
    "from sklearn.feature_selection import SelectFromModel\n",
    "from sklearn.metrics import accuracy_score\n",
    "from scipy import interp\n",
    "import datetime\n",
    "from datetime import date\n",
    "from dateutil.relativedelta import relativedelta\n",
    "import os\n",
    "import functools\n",
    "\n",
    "# Turn off pandas chained assignment warning\n",
    "pd.options.mode.chained_assignment = None  # default='warn'\n",
    "pd.options.display.max_columns = 999"
   ]
  },
  {
   "cell_type": "markdown",
   "metadata": {},
   "source": [
    "### 1. CLEAN PLI, PITT & TAX DATA"
   ]
  },
  {
   "cell_type": "code",
   "execution_count": 2,
   "metadata": {
    "collapsed": false
   },
   "outputs": [
    {
     "name": "stderr",
     "output_type": "stream",
     "text": [
      "E:\\Program Files\\Anaconda3\\envs\\crookshanks\\lib\\site-packages\\IPython\\core\\interactiveshell.py:2728: DtypeWarning: Columns (10) have mixed types. Specify dtype option on import or set low_memory=False.\n",
      "  interactivity=interactivity, compiler=compiler, result=result)\n"
     ]
    }
   ],
   "source": [
    "# create directory paths for opening files\n",
    "# curr_path = ''\n",
    "curr_path = os.path.dirname(os.path.realpath(\"fs_grid.ipynb\"))\n",
    "dataset_path = os.path.join(curr_path, \"datasets/\")\n",
    "inter_path = os.path.join(curr_path,\"interResults/\")\n",
    "png_path = os.path.join(curr_path,\"images/\")\n",
    "\n",
    "# read in data\n",
    "# Reading plidata\n",
    "plidata = pd.read_csv(os.path.join(dataset_path, \"pli.csv\"), encoding='utf-8', dtype={'STREET_NUM': 'str', 'STREET_NAME': 'str'}, low_memory=False)\n",
    "# Reading city of Pittsburgh dataset\n",
    "pittdata = pd.read_csv(os.path.join(dataset_path, \"pittdata.csv\"), encoding=\"ISO-8859-1\", dtype={'PROPERTYADDRESS': 'str', 'PROPERTYHOUSENUM': 'str', 'CLASSDESC': 'str'}, low_memory=False)\n",
    "# Reading tax data\n",
    "taxdata = pd.read_csv(\"./datasets/tax.csv\", encoding='utf-8')\n",
    "#read parcel data (matches parcels to census tract and block group\n",
    "parcel = pd.read_csv(os.path.join(dataset_path, \"parcels.csv\"), encoding='utf-8')\n",
    "#read ACS data\n",
    "acs_data = ['income.csv','occupancy.csv','yearBuilt.csv','yearMovedIn.csv']\n",
    "def clean_acs(df):\n",
    "    #Use descriptive names in first row\n",
    "    df = df.drop(0)\n",
    "    df = df.drop(['Estimate!!Total','state','county'], axis=1)\n",
    "    return df\n",
    "acs_data = map(lambda x: os.path.join(dataset_path, x), acs_data)\n",
    "acs_data = map(pd.read_csv, acs_data)\n",
    "acs_data = map(clean_acs, acs_data)\n",
    "#Merge datasets together\n",
    "acs_data_combined = functools.reduce(lambda x,y:x.merge(y, how='outer', on=['tract','block group']), acs_data)\n",
    "acs_data_combined['tract']=pd.to_numeric(acs_data_combined.tract)\n",
    "acs_data_combined['block group'] = pd.to_numeric(acs_data_combined['block group'])\n",
    "\n",
    "# cleaning pitt dataset\n",
    "# removing all properties outside Pittsburgh, Wilkinsburg, and Ingram\n",
    "pittdata = pittdata[(pittdata.PROPERTYCITY == 'PITTSBURGH')]  # & (pittdata.PROPERTYCITY == 'WILKINSBURG') & (pittdata.PROPERTYCITY == 'INGRAM')]\n",
    "# include only residential data\n",
    "pittdata = pittdata[pittdata['CLASSDESC'] == 'RESIDENTIAL']\n",
    "address_parcels = pittdata[['PARID','PROPERTYADDRESS','PROPERTYHOUSENUM']].drop_duplicates()\n",
    "pittdata = pittdata[pittdata['PROPERTYHOUSENUM'] != '0']\n",
    "pittdata = pittdata[pittdata['PROPERTYADDRESS'] != '']\n",
    "# dropping columns with less than 15% data\n",
    "pittdata = pittdata.dropna(thresh=4000, axis=1)\n",
    "pittdata = pittdata.rename(columns={pittdata.columns[0]: 'PARID'})\n",
    "# pick out necessary columns\n",
    "pittdata = pittdata[['PARID','PROPERTYHOUSENUM','PROPERTYADDRESS','MUNIDESC','SCHOOLDESC','NEIGHCODE',\n",
    "                     'TAXDESC','OWNERDESC','USEDESC','LOTAREA','SALEPRICE','FAIRMARKETBUILDING','FAIRMARKETLAND']]\n",
    "pittdata = pittdata.drop_duplicates()\n",
    "\n",
    "# cleaning pli dataset\n",
    "# removing extra whitespaces\n",
    "plidata['STREET_NAME'] = plidata['STREET_NAME'].str.strip()\n",
    "plidata['STREET_NUM'] = plidata['STREET_NUM'].str.strip()\n",
    "# include only residential data\n",
    "plidata = pd.merge(plidata, address_parcels[['PARID']], how='inner',left_on=['PARCEL'], right_on=['PARID'])\n",
    "# pick out necessary columns\n",
    "plidata=plidata[['PARCEL', 'INSPECTION_DATE', 'INSPECTION_RESULT', 'VIOLATION']]\n",
    "# converting to datetime\n",
    "plidata.INSPECTION_DATE = pd.to_datetime(plidata.INSPECTION_DATE)\n",
    "plidata['violation_year'] = plidata['INSPECTION_DATE'].map(lambda x: x.year)\n",
    "plidata = plidata.drop_duplicates()\n",
    "\n",
    "# cleaning tax dataset\n",
    "# removing all properties outside Pittsburgh, Wilkinsburg, and Ingram\n",
    "taxdata = taxdata[(taxdata.municipality == 'Pittsburgh')]  # & (tax.municipality == 'Wilkinsburg Boro') & (tax.municipality == 'Ingram Boro')]\n",
    "taxdata = taxdata.dropna(subset=['pin', 'tax_year', 'lien_description', 'amount', 'satisfied'])\n",
    "# include only residential data\n",
    "taxdata = pd.merge(taxdata, address_parcels[['PARID']], how='inner', left_on=['pin'], right_on=['PARID'])\n",
    "# pick out necessary columns\n",
    "taxdata = taxdata[['pin', 'filing_date', 'tax_year', 'lien_description', 'amount','satisfied']]\n",
    "taxdata.filing_date = pd.to_datetime(taxdata.filing_date)\n",
    "taxdata.tax_year=taxdata['tax_year'].apply(lambda x: date(x,12,31))\n",
    "taxdata.tax_year = pd.to_datetime(taxdata.tax_year)\n",
    "taxdata = taxdata.drop_duplicates()\n",
    "\n",
    "# cleaning parcel dataset\n",
    "# keep only parcel, tract, and block group\n",
    "parcel = parcel[(parcel.geo_name_cousub == 'Pittsburgh city')]\n",
    "parcel_blocks = parcel[['PIN', 'TRACTCE10', 'BLOCKCE10']]\n",
    "#get first digit of block, convert to int\n",
    "parcel_blocks['BLOCKCE10'] = parcel_blocks['BLOCKCE10'].astype(str).str[0].astype(int)\n",
    "#ignore bad parcels\n",
    "parcel_blocks = parcel_blocks[parcel_blocks['PIN'] != ' ']\n",
    "parcel_blocks = parcel_blocks[parcel_blocks['PIN'] != 'COMMON GROUND']\n",
    "parcel_blocks = parcel_blocks[~parcel_blocks['PIN'].str.match('.*County')]\n",
    "parcel_blocks=parcel_blocks.drop_duplicates()"
   ]
  },
  {
   "cell_type": "markdown",
   "metadata": {},
   "source": [
    "#### 1.1 Aggregate pittdata to census block, then merge with acs data"
   ]
  },
  {
   "cell_type": "code",
   "execution_count": 3,
   "metadata": {
    "collapsed": false
   },
   "outputs": [],
   "source": [
    "pittdata_blocks=pd.merge(pittdata, parcel_blocks, how='left', left_on=['PARID'], right_on=['PIN'])\n",
    "#drop extra columns\n",
    "pittdata_blocks = pittdata_blocks.drop(['PARID','PIN','PROPERTYHOUSENUM','PROPERTYADDRESS'], axis=1)\n",
    "\n",
    "\n",
    "#group by blocks\n",
    "grouped = pittdata_blocks.groupby(['TRACTCE10','BLOCKCE10'])\n",
    "#change the '-DESC' columns to the most common in each group (block)\n",
    "#change the other columns to the mean\n",
    "max_count = lambda x:x.value_counts().index[0]\n",
    "pittdata_blocks = grouped.agg({\n",
    "    'MUNIDESC':max_count,'SCHOOLDESC':max_count,'NEIGHCODE':max_count,\n",
    "    'TAXDESC':max_count,'OWNERDESC':max_count,'USEDESC':max_count,'LOTAREA':np.mean,\n",
    "    'SALEPRICE':np.mean,'FAIRMARKETBUILDING':np.mean,'FAIRMARKETLAND':np.mean\n",
    "})\n",
    "#reset index to columns\n",
    "pittdata_blocks = pittdata_blocks.reset_index(level=[0,1])\n",
    "#merge pittdata with acs\n",
    "pittacs = pd.merge(pittdata_blocks, acs_data_combined, how='inner', left_on=['BLOCKCE10','TRACTCE10'],right_on=['block group','tract'])\n",
    "pittacs = pittacs.drop(['tract','block group'],axis=1)\n",
    "# keep a copy of blocks and tracts\n",
    "blocks = pittacs[['TRACTCE10','BLOCKCE10']].drop_duplicates()"
   ]
  },
  {
   "cell_type": "markdown",
   "metadata": {},
   "source": [
    "#### 1.2 merge plidata with census block"
   ]
  },
  {
   "cell_type": "code",
   "execution_count": 4,
   "metadata": {
    "collapsed": true
   },
   "outputs": [],
   "source": [
    "#group by blocks\n",
    "plidata_blocks = pd.merge(plidata, parcel_blocks, how='left', left_on=['PARCEL'], right_on=['PIN'])\n",
    "#drop extra columns\n",
    "plidata_blocks = plidata_blocks.drop(['PARCEL','PIN'], axis=1)\n",
    "plidata_blocks=plidata_blocks.dropna(subset=['TRACTCE10','BLOCKCE10'])"
   ]
  },
  {
   "cell_type": "markdown",
   "metadata": {},
   "source": [
    "#### 1.3 Aggregate taxdata to census block¶"
   ]
  },
  {
   "cell_type": "code",
   "execution_count": 5,
   "metadata": {
    "collapsed": true
   },
   "outputs": [],
   "source": [
    "# group by blocks\n",
    "taxdata_blocks = pd.merge(taxdata,parcel_blocks, how='left', left_on=['pin'], right_on=['PIN'])\n",
    "taxdata_blocks = taxdata_blocks.drop(['pin','PIN'],axis=1)\n",
    "taxdata_blocks = taxdata_blocks.dropna(subset=['TRACTCE10','BLOCKCE10'])"
   ]
  },
  {
   "cell_type": "markdown",
   "metadata": {},
   "source": [
    "### 2. Clean fire incident data"
   ]
  },
  {
   "cell_type": "code",
   "execution_count": 6,
   "metadata": {
    "collapsed": false
   },
   "outputs": [],
   "source": [
    "# loading fire incidents csvs\n",
    "fire_pre14 = pd.read_csv(os.path.join(dataset_path, \"Fire_Incidents_Pre14.csv\"), encoding='latin-1', dtype={'street': 'str', 'number': 'str'}, low_memory=False)\n",
    "fire_new = pd.read_csv(os.path.join(dataset_path, \"Fire_Incidents_New.csv\"), encoding='utf-8', dtype={'street': 'str', 'number': 'str'}, low_memory=False)\n",
    "\n",
    "# cleaning columns of fire_pre14\n",
    "fire_pre14['full.code'] = fire_pre14['full.code'].str.replace('  -', ' -')\n",
    "fire_pre14['st_type'] = fire_pre14['st_type'].str.strip()\n",
    "fire_pre14['street'] = fire_pre14['street'].str.strip()\n",
    "fire_pre14['number'] = fire_pre14['number'].str.strip()\n",
    "fire_pre14['st_type'] = fire_pre14['st_type'].str.replace('AV', 'AVE')\n",
    "fire_pre14['street'] = fire_pre14['street'].str.strip() + ' ' + fire_pre14['st_type'].str.strip()\n",
    "\n",
    "# drop irrelevant columns\n",
    "pre14_drop = ['Unnamed: 0','PRIMARY_UNIT', 'MAP_PAGE', 'alm_dttm', 'arv_dttm', 'XCOORD', \n",
    "              'YCOORD','inci_id', 'inci_type', 'alarms', 'st_prefix',\n",
    "              'st_suffix', 'st_type', 'CALL_NO','descript','ï..AGENCY']\n",
    "for col in pre14_drop:\n",
    "      del fire_pre14[col]\n",
    "\n",
    "\n",
    "post14_drop = ['alm_dttm', 'arv_dttm', 'XCOORD', 'YCOORD', 'alarms', \n",
    "               'inci_type', 'CALL_NO','descript']\n",
    "for col in post14_drop:\n",
    "      del fire_new[col]\n",
    "\n",
    "# joining both the fire incidents file together\n",
    "fire_new = fire_new.append(fire_pre14, ignore_index=True)\n",
    "fire_new = fire_new[fire_new['full.code'].str.strip() != '540 - Animal problem, Other']\n",
    "fire_new = fire_new[fire_new['full.code'].str.strip() != '5532 - Public Education (Station Visit)']\n",
    "fire_new = fire_new[fire_new['full.code'].str.strip() != '353 - Removal of victim(s) from stalled elevator']\n",
    "\n",
    "# correcting problems with the street column\n",
    "fire_new['street'] = fire_new['street'].replace(to_replace=', PGH', value='', regex=True)\n",
    "fire_new['street'] = fire_new['street'].replace(to_replace=', P', value='', regex=True)\n",
    "fire_new['street'] = fire_new['street'].replace(to_replace=',', value='', regex=True)\n",
    "fire_new['street'] = fire_new['street'].replace(to_replace='#.*', value='', regex=True)\n",
    "fire_new['street'] = fire_new['street'].str.strip()\n",
    "fire_new['number'] = fire_new['number'].str.strip()\n",
    "\n",
    "# converting to date time and extracting year\n",
    "fireDate, fireTime = fire_new['CALL_CREATED_DATE'].str.split(' ', 1).str\n",
    "fire_new['CALL_CREATED_DATE'] = fireDate\n",
    "fire_new['CALL_CREATED_DATE'] = pd.to_datetime(fire_new['CALL_CREATED_DATE'])\n",
    "fire_new['fire_year'] = fire_new['CALL_CREATED_DATE'].map(lambda x: x.year)\n",
    "\n",
    "# removing all codes with less than 20 occurences\n",
    "for col, val in fire_new['full.code'].value_counts().iteritems():\n",
    "    if val < 20 and col[0] != '1':\n",
    "        fire_new = fire_new[fire_new['full.code'] != col]\n",
    "\n",
    "#Split street column when there are 2 streets\n",
    "street_split = fire_new['street'].str.split('/')\n",
    "fire_new['street'] = street_split.map(lambda x:x[0])\n",
    "fire_new = fire_new.dropna(subset=['CALL_CREATED_DATE'])\n",
    "fire_new = fire_new.drop_duplicates()"
   ]
  },
  {
   "cell_type": "markdown",
   "metadata": {},
   "source": [
    "#### 2.1 merge fire incident to census block"
   ]
  },
  {
   "cell_type": "code",
   "execution_count": 7,
   "metadata": {
    "collapsed": true
   },
   "outputs": [],
   "source": [
    "# convert from addresses to parcels\n",
    "fire_parcel = pd.merge(fire_new, address_parcels, how='inner',\n",
    "                        left_on=['street','number'], right_on=['PROPERTYADDRESS','PROPERTYHOUSENUM'])\n",
    "# convert from parcels to census blocks\n",
    "fire_blocks = pd.merge(fire_parcel, parcel_blocks, how='left',left_on=['PARID'], right_on=['PIN'])\n",
    "#drop extra columns\n",
    "fire_blocks=fire_blocks.drop(['number','street','PARID','PROPERTYADDRESS',\n",
    "                              'PROPERTYHOUSENUM','PIN', 'Unnamed: 0',\n",
    "                              'st_prefix', 'st_suffix', 'st_type',\n",
    "                              'prop_use_code','response_time',\n",
    "                              'CALL_TYPE_FINAL', 'COUNCIL', 'NEIGHBORHOOD',\n",
    "                              'PRIMARY_UNIT','fire_year','prop_use_descript'],axis=1)\n",
    "#drop data without block or tract (this drops non-residential data)\n",
    "fire_blocks = fire_blocks.dropna(subset=['TRACTCE10','BLOCKCE10'])\n",
    "# dropping columns with less than 15% data\n",
    "fire_blocks = fire_blocks.dropna(thresh=len(fire_blocks)*0.15, axis=1)\n",
    "fire_blocks = fire_blocks.drop_duplicates()"
   ]
  },
  {
   "cell_type": "markdown",
   "metadata": {},
   "source": [
    "### 3 Join four datasets together"
   ]
  },
  {
   "cell_type": "markdown",
   "metadata": {},
   "source": [
    "#### 3.1 joining dynamic data with fire incidents"
   ]
  },
  {
   "cell_type": "code",
   "execution_count": 8,
   "metadata": {
    "collapsed": true
   },
   "outputs": [],
   "source": [
    "# making the fire column with all type 100s as fires and map it to 0 or 1\n",
    "fire_blocks['fire'] = fire_blocks['full.code'].astype(str).map(lambda x: 1 if x[0]=='1' else 0)\n",
    "# keep non-fire incidents as features\n",
    "nonfire_incidents = fire_blocks[fire_blocks['fire'] != 1]\n",
    "nonfire_incidents = nonfire_incidents[['CALL_CREATED_DATE','full.code','TRACTCE10', 'BLOCKCE10']]\n",
    "fire_blocks.drop('full.code',axis=1,inplace=True)\n",
    "\n",
    "\n",
    "# group by every certain period of time\n",
    "# reason for setting period to year: tax data is based on year\n",
    "period = 'A'\n",
    "fire_groups = fire_blocks.groupby(pd.Grouper(key='CALL_CREATED_DATE', freq=period))\n",
    "nonfire_groups = nonfire_incidents.groupby(pd.Grouper(key='CALL_CREATED_DATE', freq=period))\n",
    "plidata_groups = plidata_blocks.groupby(pd.Grouper(key='INSPECTION_DATE', freq=period))\n",
    "taxdata_groups = taxdata_blocks.groupby(pd.Grouper(key='tax_year', freq=period))\n",
    "\n",
    "# get the date of the earliest fire in each block in each year\n",
    "block_fire_dates = fire_groups.apply(lambda x:x.groupby(['TRACTCE10','BLOCKCE10']).apply(lambda x:x[x['fire']==1].min()))\n",
    "\n",
    "# then group fire by census blocks\n",
    "def groupByBlock(df,categoricals, method):\n",
    "    dummies=[pd.get_dummies(df[feature]) for feature in categoricals]\n",
    "    df = pd.concat([df]+dummies,axis=1)\n",
    "    df.drop(categoricals,axis=1,inplace=True)\n",
    "    df = pd.merge(df, blocks, how='right',on=['TRACTCE10','BLOCKCE10'])\n",
    "    df_grouped=df.groupby(['TRACTCE10','BLOCKCE10'])\n",
    "    if method == 'max':\n",
    "        df_grouped=df_grouped.max()\n",
    "    if method == 'sum':\n",
    "        df_grouped=df_grouped.sum()\n",
    "    return df_grouped\n",
    "fire_divided = fire_groups.apply(groupByBlock,categoricals=[],method='max')\n",
    "fire_divided.drop('CALL_CREATED_DATE',axis=1,inplace=True)\n",
    "fire_divided=fire_divided.reset_index()\n",
    "fire_divided=fire_divided.fillna(0)\n",
    "\n",
    "\n",
    "# group nonfire incidents by census blocks\n",
    "def groupByBlockNonfire(df, categoricals, method):\n",
    "    # only keep data that occurred before the fire\n",
    "    year = df['CALL_CREATED_DATE'].iloc[0].year\n",
    "    df = pd.merge(df, block_fire_dates[block_fire_dates['CALL_CREATED_DATE'].dt.year == year], how='left',\n",
    "                  on=['TRACTCE10', 'BLOCKCE10'], suffixes=['', '_F'])\n",
    "    df['CALL_CREATED_DATE_F'] = df['CALL_CREATED_DATE_F'].fillna(pd.to_datetime('12-31-' + str(year)))\n",
    "    df = df[df['CALL_CREATED_DATE'] <= df['CALL_CREATED_DATE_F']]\n",
    "    df = df.drop(['CALL_CREATED_DATE_F', 'fire'], axis=1)\n",
    "\n",
    "    dummies = [pd.get_dummies(df[feature]) for feature in categoricals]\n",
    "    df = pd.concat([df] + dummies, axis=1)\n",
    "    df.drop(categoricals, axis=1, inplace=True)\n",
    "    df = pd.merge(df, blocks, how='right', on=['TRACTCE10', 'BLOCKCE10'])\n",
    "    df_grouped = df.groupby(['TRACTCE10', 'BLOCKCE10'])\n",
    "    if method == 'max':\n",
    "        df_grouped = df_grouped.max()\n",
    "    if method == 'sum':\n",
    "        df_grouped = df_grouped.sum()\n",
    "    return df_grouped\n",
    "\n",
    "nonfire_divided = nonfire_groups.apply(groupByBlockNonfire,categoricals=['full.code'],method='sum')\n",
    "nonfire_divided=nonfire_divided.reset_index()\n",
    "nonfire_divided=nonfire_divided.fillna(0)\n",
    "\n",
    "\n",
    "# group pli incidents by census blocks\n",
    "def groupByBlock_pli(df):\n",
    "    # only keep data that occurred before the fire\n",
    "    year = df['INSPECTION_DATE'].iloc[0].year\n",
    "    df = pd.merge(df, block_fire_dates[block_fire_dates['CALL_CREATED_DATE'].dt.year == year], how='left',\n",
    "                  on=['TRACTCE10', 'BLOCKCE10'])\n",
    "    df['CALL_CREATED_DATE'] = df['CALL_CREATED_DATE'].fillna(pd.to_datetime('12-31-' + str(year)))\n",
    "    df = df[df['INSPECTION_DATE'] <= df['CALL_CREATED_DATE']]\n",
    "    df = df.drop(['CALL_CREATED_DATE', 'fire'], axis=1)\n",
    "    \n",
    "    INSPECTION_RESULT_dummies=pd.get_dummies(df['INSPECTION_RESULT'])\n",
    "    VIOLATION_dummies=df['VIOLATION'].str.get_dummies(sep=' :: ')\n",
    "    df = pd.concat([df,INSPECTION_RESULT_dummies,VIOLATION_dummies],axis=1)\n",
    "    df.drop(['INSPECTION_RESULT','VIOLATION','violation_year'],axis=1,inplace=True)\n",
    "    df = pd.merge(df, blocks, how='right',on=['TRACTCE10','BLOCKCE10'])\n",
    "    df_grouped=df.groupby(['TRACTCE10','BLOCKCE10']).sum()\n",
    "    return df_grouped\n",
    "pli_divided=plidata_groups.apply(groupByBlock_pli)\n",
    "pli_divided=pli_divided.reset_index()\n",
    "pli_divided=pli_divided.fillna(0)\n",
    "\n",
    "\n",
    "# group tax data by census blocks\n",
    "def groupByBlock_tax(df):\n",
    "    tax_dummies=pd.get_dummies(df['lien_description'])\n",
    "    df = pd.concat([df,tax_dummies],axis=1)\n",
    "    df.drop(['lien_description'],axis=1,inplace=True)\n",
    "    df = pd.merge(df, blocks, how='right',on=['TRACTCE10','BLOCKCE10'])\n",
    "    df_grouped=df.groupby(['TRACTCE10','BLOCKCE10']).sum()\n",
    "    return df_grouped\n",
    "\n",
    "tax_divided=taxdata_groups.apply(groupByBlock,categoricals=['lien_description'],method='sum')\n",
    "tax_divided=tax_divided.reset_index()\n",
    "tax_divided=tax_divided.fillna(0)\n",
    "\n",
    "\n",
    "# join fire, nonfire, pli, tax data together\n",
    "fire_nonfire = pd.merge(fire_divided,nonfire_divided,how='outer',\n",
    "                        on=['CALL_CREATED_DATE','TRACTCE10','BLOCKCE10'])\n",
    "fire_nonfire_pli = pd.merge(fire_nonfire,pli_divided,how='outer',\n",
    "                           left_on=['CALL_CREATED_DATE','TRACTCE10','BLOCKCE10'],\n",
    "                           right_on=['INSPECTION_DATE','TRACTCE10','BLOCKCE10'])\n",
    "fire_nonfire_pli_tax = pd.merge(fire_nonfire_pli,tax_divided,how='outer',\n",
    "                               left_on=['CALL_CREATED_DATE','TRACTCE10','BLOCKCE10'],\n",
    "                               right_on=['tax_year','TRACTCE10','BLOCKCE10'])\n",
    "fire_nonfire_pli_tax['CALL_CREATED_DATE']=fire_nonfire_pli_tax['CALL_CREATED_DATE'].fillna(fire_nonfire_pli_tax['CALL_CREATED_DATE'])\n",
    "fire_nonfire_pli_tax.drop(['INSPECTION_DATE','tax_year'],axis=1,inplace=True)\n",
    "\n",
    "\n",
    "# drop columns with less than thresold% data\n",
    "threshold=0.0001\n",
    "s=fire_nonfire_pli_tax.sum()\n",
    "drop_columns=s[s<len(fire_nonfire_pli_tax)*threshold].index\n",
    "fire_nonfire_pli_tax.drop(drop_columns,axis=1,inplace=True)"
   ]
  },
  {
   "cell_type": "markdown",
   "metadata": {},
   "source": [
    "#### 3.2 Join with static data"
   ]
  },
  {
   "cell_type": "code",
   "execution_count": 9,
   "metadata": {
    "collapsed": false
   },
   "outputs": [],
   "source": [
    "# join with pitt_blocks\n",
    "combined = pd.merge(fire_nonfire_pli_tax,pittacs,\n",
    "                    how='left',on=['TRACTCE10','BLOCKCE10'])\n",
    "features = ['SCHOOLDESC', 'OWNERDESC', 'MUNIDESC', 'NEIGHCODE','TAXDESC', 'USEDESC']\n",
    "dummies= [pd.get_dummies(combined[feature]) for feature in features]\n",
    "encoded_combined=pd.concat([combined]+dummies,axis=1)\n",
    "encoded_combined.drop(features,axis=1,inplace=True)\n",
    "encoded_combined=encoded_combined.dropna(subset=['CALL_CREATED_DATE'])\n",
    "encoded_combined = encoded_combined.drop_duplicates()\n",
    "encoded_combined=encoded_combined.fillna(0)\n",
    "encoded_combined = encoded_combined[encoded_combined.CALL_CREATED_DATE <= '2017-12-31']"
   ]
  },
  {
   "cell_type": "markdown",
   "metadata": {},
   "source": [
    "### 4 Split data into training set, validation set and test set"
   ]
  },
  {
   "cell_type": "code",
   "execution_count": 10,
   "metadata": {
    "collapsed": true
   },
   "outputs": [],
   "source": [
    "cutoffdate = '2016-12-31'\n",
    "val_cutoffdate = '2015-12-31'\n",
    "\n",
    "# training set, contains everything before 2015-12-31\n",
    "traindata = encoded_combined[encoded_combined.CALL_CREATED_DATE <= val_cutoffdate]\n",
    "traindata.drop(['CALL_CREATED_DATE','TRACTCE10','BLOCKCE10'],axis=1,inplace=True)\n",
    "traindata.fillna(0)\n",
    "columns=np.array(traindata.columns)\n",
    "X_train=np.array(traindata.drop(['fire'],axis=1))\n",
    "y_train=np.array(traindata['fire'])\n",
    "\n",
    "# validation set, contains data between 2016-1-1 and 2016-12-31\n",
    "valdata = encoded_combined[(encoded_combined.CALL_CREATED_DATE > val_cutoffdate) & \n",
    "                           (encoded_combined.CALL_CREATED_DATE <= cutoffdate)]\n",
    "valdata.drop(['CALL_CREATED_DATE','TRACTCE10','BLOCKCE10'],axis=1,inplace=True)\n",
    "valdata.fillna(0)\n",
    "X_val=np.array(valdata.drop(['fire'],axis=1))\n",
    "y_val=np.array(valdata['fire'])\n",
    "\n",
    "#test set, contains data between 2017-1-1 and 2017-12-31\n",
    "testdata = encoded_combined[encoded_combined.CALL_CREATED_DATE > cutoffdate]\n",
    "testdata.drop(['CALL_CREATED_DATE','TRACTCE10','BLOCKCE10'],axis=1,inplace=True)\n",
    "testdata.fillna(0)\n",
    "X_test=np.array(testdata.drop(['fire'],axis=1))\n",
    "y_test=np.array(testdata['fire'])"
   ]
  },
  {
   "cell_type": "markdown",
   "metadata": {},
   "source": [
    "### 5 Random Forest feature selection"
   ]
  },
  {
   "cell_type": "code",
   "execution_count": 11,
   "metadata": {
    "collapsed": false
   },
   "outputs": [
    {
     "name": "stdout",
     "output_type": "stream",
     "text": [
      "[[150  11]\n",
      " [102  80]]\n",
      "Accuracy = 0.6705539358600583 \n",
      " \n",
      "\n",
      "kappa score = 0.3595141700404859 \n",
      " \n",
      "\n",
      "AUC Score = 0.68561872909699 \n",
      " \n",
      "\n",
      "recall = 0.43956043956043955 \n",
      " \n",
      "\n",
      "precision = 0.8791208791208791 \n",
      " \n",
      "\n"
     ]
    }
   ],
   "source": [
    "# Random Forest model\n",
    "model = RandomForestClassifier(n_estimators = 65)\n",
    "model.fit(X_train, y_train)\n",
    "pred_rf = model.predict(X_val)\n",
    "real = y_val\n",
    "cm_rf = confusion_matrix(real, pred_rf)\n",
    "print(cm_rf)\n",
    "\n",
    "kappa_rf = cohen_kappa_score(real, pred_rf)\n",
    "\n",
    "fpr, tpr, thresholds = metrics.roc_curve(y_val, pred_rf, pos_label=1)\n",
    "roc_auc = metrics.auc(fpr, tpr)\n",
    "\n",
    "acc_rf = 'Accuracy = {0} \\n \\n'.format(float(cm_rf[0][0] + cm_rf[1][1]) / len(real))\n",
    "kapp_rf = 'kappa score = {0} \\n \\n'.format(kappa_rf)\n",
    "auc_rf = 'AUC Score = {0} \\n \\n'.format(metrics.auc(fpr, tpr))\n",
    "recall_rf = 'recall = {0} \\n \\n'.format(tpr[1])\n",
    "precis_rf = 'precision = {0} \\n \\n'.format(float(cm_rf[1][1]) / (cm_rf[1][1] + cm_rf[0][1]))\n",
    "\n",
    "print(acc_rf)\n",
    "print(kapp_rf)\n",
    "print(auc_rf)\n",
    "print(recall_rf)\n",
    "print(precis_rf)"
   ]
  },
  {
   "cell_type": "code",
   "execution_count": 12,
   "metadata": {
    "collapsed": false
   },
   "outputs": [],
   "source": [
    "#feature selection\n",
    "# create the list of features with corresponding feature importances\n",
    "feature_importance = pd.Series(data=model.feature_importances_, index=traindata.drop(['fire'], axis =1).columns)\n",
    "\n",
    "#sort the feature importance from low to hi\n",
    "feature_importance = feature_importance.sort_values()\n",
    "# Making threshold smaller\n",
    "thresh_num = X_train.shape[1]\n",
    "\n",
    "feature_result = pd.DataFrame(columns=('Last_Feature', 'Thresh', 'Acc', 'Kapp', 'AUC', 'Recall', 'Precis'))\n",
    "low_thresh = feature_importance[0]"
   ]
  },
  {
   "cell_type": "code",
   "execution_count": 13,
   "metadata": {
    "collapsed": false,
    "scrolled": true
   },
   "outputs": [],
   "source": [
    "for i in range(feature_importance.size-thresh_num, feature_importance.size-2):\n",
    "    # select features using threshold\n",
    "    if feature_importance[i] == low_thresh:\n",
    "        continue\n",
    "    else:\n",
    "        low_thresh = feature_importance[i]\n",
    "         \n",
    "    # initialize model and fit on fewer features\n",
    "    selection_model = RandomForestClassifier(n_estimators = 65)\n",
    "    selection = SelectFromModel(model, threshold=feature_importance[i], prefit=True)\n",
    "    select_X_train = selection.transform(X_train)\n",
    "    selection_model.fit(select_X_train, y_train)\n",
    "    select_X_val = selection.transform(X_val)\n",
    "    y_pred = selection_model.predict(select_X_val)\n",
    "    predictions = [round(value) for value in y_pred]\n",
    "    \n",
    "    #metric calculation\n",
    "    fpr, tpr, thresholds = metrics.roc_curve(y_val, predictions, pos_label=1)\n",
    "    accuracy = accuracy_score(y_val, predictions)\n",
    "    cm = confusion_matrix(y_val, predictions)\n",
    "    \n",
    "    kappa = cohen_kappa_score(y_val, predictions)\n",
    "    acc = float(cm[0][0] + cm[1][1]) / len(y_val)\n",
    "    auc = metrics.auc(fpr, tpr)\n",
    "    recall = tpr[1]\n",
    "    precis = float(cm[1][1]) / (cm[1][1] + cm[0][1])\n",
    "    \n",
    "    feature_result.loc[i] = [feature_importance.index[i], feature_importance[i], acc, kappa, auc, recall, precis]"
   ]
  },
  {
   "cell_type": "code",
   "execution_count": 14,
   "metadata": {
    "collapsed": false
   },
   "outputs": [
    {
     "name": "stdout",
     "output_type": "stream",
     "text": [
      "best row:\n",
      "Last_Feature    740 - Unintentional transmission of alarm, Oth...\n",
      "Thresh                                                 0.00308927\n",
      "Acc                                                      0.717201\n",
      "Kapp                                                     0.444418\n",
      "AUC                                                      0.727066\n",
      "Recall                                                   0.565934\n",
      "Precis                                                    0.85124\n",
      "F1                                                       0.679868\n",
      "Name: 364, dtype: object\n"
     ]
    }
   ],
   "source": [
    "#find the feature importance score with the best f1, use this score as a threshold\n",
    "feature_result['F1'] = 2* (feature_result['Recall']*feature_result['Precis']) / (feature_result['Recall']+feature_result['Precis'])\n",
    "max_f1 = feature_result['F1'].idxmax()\n",
    "best_row = feature_result.loc[feature_result['F1'].idxmax()]\n",
    "print(\"best row:\")\n",
    "print(best_row)\n",
    "inter_path = os.path.join(curr_path, \"interResults/\")\n",
    "feature_result.to_csv(\"{0}Feature_Selection_Results{1}.csv\".format(inter_path,datetime.datetime.now().strftime('%m%d-%H%M%S')), 'a')\n",
    "thres = feature_result.loc[feature_result['F1'] == feature_result['F1'][max_f1]]"
   ]
  },
  {
   "cell_type": "code",
   "execution_count": 15,
   "metadata": {
    "collapsed": false
   },
   "outputs": [],
   "source": [
    "# select features w/ importance score >= thres\n",
    "selection = SelectFromModel(model, threshold=thres.iloc[0]['Thresh'], prefit=True)\n",
    "select_X_train = selection.transform(X_train)\n",
    "select_X_val = selection.transform(X_val)\n",
    "select_X_test=selection.transform(X_test)"
   ]
  },
  {
   "cell_type": "markdown",
   "metadata": {},
   "source": [
    "### 6 Random Forest hyper-parameter tuning"
   ]
  },
  {
   "cell_type": "code",
   "execution_count": 22,
   "metadata": {
    "collapsed": false,
    "scrolled": true
   },
   "outputs": [
    {
     "name": "stdout",
     "output_type": "stream",
     "text": [
      "## Tuning for RandomForestClassifier(bootstrap=True, class_weight=None, criterion='gini',\n",
      "            max_depth=None, max_features='auto', max_leaf_nodes=None,\n",
      "            min_impurity_decrease=0.0, min_impurity_split=None,\n",
      "            min_samples_leaf=1, min_samples_split=2,\n",
      "            min_weight_fraction_leaf=0.0, n_estimators=65, n_jobs=1,\n",
      "            oob_score=False, random_state=None, verbose=0,\n",
      "            warm_start=False)\n",
      "# Tuning hyper-parameters for f1\n",
      "Model setted up\n",
      "Best parameters set found on development set:\n",
      "\n",
      "{'max_depth': 10, 'max_features': 'log2', 'n_estimators': 60}\n",
      "\n",
      "Grid scores on development set:\n",
      "\n",
      "0.639 (+/-0.114) for {'max_depth': None, 'max_features': 'sqrt', 'n_estimators': 1}\n",
      "0.652 (+/-0.132) for {'max_depth': None, 'max_features': 'sqrt', 'n_estimators': 10}\n",
      "0.689 (+/-0.131) for {'max_depth': None, 'max_features': 'sqrt', 'n_estimators': 50}\n",
      "0.682 (+/-0.137) for {'max_depth': None, 'max_features': 'sqrt', 'n_estimators': 60}\n",
      "0.696 (+/-0.143) for {'max_depth': None, 'max_features': 'sqrt', 'n_estimators': 100}\n",
      "0.687 (+/-0.145) for {'max_depth': None, 'max_features': 'sqrt', 'n_estimators': 500}\n",
      "0.585 (+/-0.062) for {'max_depth': None, 'max_features': 'log2', 'n_estimators': 1}\n",
      "0.617 (+/-0.168) for {'max_depth': None, 'max_features': 'log2', 'n_estimators': 10}\n",
      "0.687 (+/-0.150) for {'max_depth': None, 'max_features': 'log2', 'n_estimators': 50}\n",
      "0.673 (+/-0.178) for {'max_depth': None, 'max_features': 'log2', 'n_estimators': 60}\n",
      "0.693 (+/-0.148) for {'max_depth': None, 'max_features': 'log2', 'n_estimators': 100}\n",
      "0.699 (+/-0.140) for {'max_depth': None, 'max_features': 'log2', 'n_estimators': 500}\n",
      "0.699 (+/-0.097) for {'max_depth': 3, 'max_features': 'sqrt', 'n_estimators': 1}\n",
      "0.656 (+/-0.124) for {'max_depth': 3, 'max_features': 'sqrt', 'n_estimators': 10}\n",
      "0.641 (+/-0.248) for {'max_depth': 3, 'max_features': 'sqrt', 'n_estimators': 50}\n",
      "0.658 (+/-0.208) for {'max_depth': 3, 'max_features': 'sqrt', 'n_estimators': 60}\n",
      "0.678 (+/-0.208) for {'max_depth': 3, 'max_features': 'sqrt', 'n_estimators': 100}\n",
      "0.666 (+/-0.219) for {'max_depth': 3, 'max_features': 'sqrt', 'n_estimators': 500}\n",
      "0.468 (+/-0.511) for {'max_depth': 3, 'max_features': 'log2', 'n_estimators': 1}\n",
      "0.688 (+/-0.138) for {'max_depth': 3, 'max_features': 'log2', 'n_estimators': 10}\n",
      "0.641 (+/-0.221) for {'max_depth': 3, 'max_features': 'log2', 'n_estimators': 50}\n",
      "0.651 (+/-0.237) for {'max_depth': 3, 'max_features': 'log2', 'n_estimators': 60}\n",
      "0.643 (+/-0.263) for {'max_depth': 3, 'max_features': 'log2', 'n_estimators': 100}\n",
      "0.653 (+/-0.268) for {'max_depth': 3, 'max_features': 'log2', 'n_estimators': 500}\n",
      "0.631 (+/-0.142) for {'max_depth': 5, 'max_features': 'sqrt', 'n_estimators': 1}\n",
      "0.689 (+/-0.133) for {'max_depth': 5, 'max_features': 'sqrt', 'n_estimators': 10}\n",
      "0.692 (+/-0.189) for {'max_depth': 5, 'max_features': 'sqrt', 'n_estimators': 50}\n",
      "0.693 (+/-0.160) for {'max_depth': 5, 'max_features': 'sqrt', 'n_estimators': 60}\n",
      "0.688 (+/-0.175) for {'max_depth': 5, 'max_features': 'sqrt', 'n_estimators': 100}\n",
      "0.697 (+/-0.173) for {'max_depth': 5, 'max_features': 'sqrt', 'n_estimators': 500}\n",
      "0.534 (+/-0.307) for {'max_depth': 5, 'max_features': 'log2', 'n_estimators': 1}\n",
      "0.670 (+/-0.133) for {'max_depth': 5, 'max_features': 'log2', 'n_estimators': 10}\n",
      "0.672 (+/-0.180) for {'max_depth': 5, 'max_features': 'log2', 'n_estimators': 50}\n",
      "0.700 (+/-0.169) for {'max_depth': 5, 'max_features': 'log2', 'n_estimators': 60}\n",
      "0.696 (+/-0.202) for {'max_depth': 5, 'max_features': 'log2', 'n_estimators': 100}\n",
      "0.697 (+/-0.173) for {'max_depth': 5, 'max_features': 'log2', 'n_estimators': 500}\n",
      "0.598 (+/-0.033) for {'max_depth': 10, 'max_features': 'sqrt', 'n_estimators': 1}\n",
      "0.674 (+/-0.130) for {'max_depth': 10, 'max_features': 'sqrt', 'n_estimators': 10}\n",
      "0.704 (+/-0.152) for {'max_depth': 10, 'max_features': 'sqrt', 'n_estimators': 50}\n",
      "0.694 (+/-0.133) for {'max_depth': 10, 'max_features': 'sqrt', 'n_estimators': 60}\n",
      "0.706 (+/-0.143) for {'max_depth': 10, 'max_features': 'sqrt', 'n_estimators': 100}\n",
      "0.708 (+/-0.135) for {'max_depth': 10, 'max_features': 'sqrt', 'n_estimators': 500}\n",
      "0.587 (+/-0.068) for {'max_depth': 10, 'max_features': 'log2', 'n_estimators': 1}\n",
      "0.677 (+/-0.130) for {'max_depth': 10, 'max_features': 'log2', 'n_estimators': 10}\n",
      "0.707 (+/-0.137) for {'max_depth': 10, 'max_features': 'log2', 'n_estimators': 50}\n",
      "0.712 (+/-0.131) for {'max_depth': 10, 'max_features': 'log2', 'n_estimators': 60}\n",
      "0.702 (+/-0.156) for {'max_depth': 10, 'max_features': 'log2', 'n_estimators': 100}\n",
      "0.712 (+/-0.169) for {'max_depth': 10, 'max_features': 'log2', 'n_estimators': 500}\n",
      "0.630 (+/-0.050) for {'max_depth': 20, 'max_features': 'sqrt', 'n_estimators': 1}\n",
      "0.618 (+/-0.134) for {'max_depth': 20, 'max_features': 'sqrt', 'n_estimators': 10}\n",
      "0.681 (+/-0.145) for {'max_depth': 20, 'max_features': 'sqrt', 'n_estimators': 50}\n",
      "0.682 (+/-0.132) for {'max_depth': 20, 'max_features': 'sqrt', 'n_estimators': 60}\n",
      "0.682 (+/-0.156) for {'max_depth': 20, 'max_features': 'sqrt', 'n_estimators': 100}\n",
      "0.698 (+/-0.152) for {'max_depth': 20, 'max_features': 'sqrt', 'n_estimators': 500}\n",
      "0.617 (+/-0.093) for {'max_depth': 20, 'max_features': 'log2', 'n_estimators': 1}\n",
      "0.643 (+/-0.133) for {'max_depth': 20, 'max_features': 'log2', 'n_estimators': 10}\n",
      "0.672 (+/-0.158) for {'max_depth': 20, 'max_features': 'log2', 'n_estimators': 50}\n",
      "0.702 (+/-0.132) for {'max_depth': 20, 'max_features': 'log2', 'n_estimators': 60}\n",
      "0.679 (+/-0.160) for {'max_depth': 20, 'max_features': 'log2', 'n_estimators': 100}\n",
      "0.692 (+/-0.161) for {'max_depth': 20, 'max_features': 'log2', 'n_estimators': 500}\n",
      "\n",
      "Detailed classification report:\n",
      "\n",
      "The model is trained on the full development set.\n",
      "The scores are computed on the full evaluation set.\n",
      "\n",
      "             precision    recall  f1-score   support\n",
      "\n",
      "        0.0       0.65      0.93      0.76       161\n",
      "        1.0       0.90      0.55      0.68       182\n",
      "\n",
      "avg / total       0.78      0.73      0.72       343\n",
      "\n",
      "\n"
     ]
    }
   ],
   "source": [
    "# tuned hyper-parameters based on recall\n",
    "score='f1'\n",
    "tscv =TimeSeriesSplit(n_splits=3) \n",
    "\n",
    "tuned_parameters= {'n_estimators':[1,10,50, 60,100,500],\n",
    "                   'max_depth':[None,3,5,10,20],\n",
    "                   'max_features':['sqrt','log2']}\n",
    "\n",
    "print (\"## Tuning for %s\"%model)\n",
    "\n",
    "print(\"# Tuning hyper-parameters for %s\" % score)\n",
    "\n",
    "clf = GridSearchCV(model, tuned_parameters, cv=tscv, scoring=score)\n",
    "print('Model setted up')\n",
    "clf.fit(select_X_train, y_train)\n",
    "\n",
    "print(\"Best parameters set found on development set:\")\n",
    "print()\n",
    "print(clf.best_params_)\n",
    "print()\n",
    "print(\"Grid scores on development set:\")\n",
    "print()\n",
    "means = clf.cv_results_['mean_test_score']\n",
    "stds = clf.cv_results_['std_test_score']\n",
    "for mean, std, params in zip(means, stds, clf.cv_results_['params']):\n",
    "    print(\"%0.3f (+/-%0.03f) for %r\"% (mean, std * 2, params))\n",
    "print()\n",
    "\n",
    "print(\"Detailed classification report:\")\n",
    "print()\n",
    "print(\"The model is trained on the full development set.\")\n",
    "print(\"The scores are computed on the full evaluation set.\")\n",
    "print()\n",
    "y_true, y_pred = y_val, clf.predict(select_X_val)\n",
    "print(classification_report(y_true, y_pred))\n",
    "print()"
   ]
  },
  {
   "cell_type": "markdown",
   "metadata": {},
   "source": [
    "### 7 Model performance on the test set"
   ]
  },
  {
   "cell_type": "code",
   "execution_count": 17,
   "metadata": {
    "collapsed": false
   },
   "outputs": [
    {
     "name": "stdout",
     "output_type": "stream",
     "text": [
      "[[129  14]\n",
      " [ 70 130]]\n",
      "Final Test Data Results\n",
      "Thresh=0.003089, n=79\n",
      "Accuracy = 0.7551020408163265 \n",
      " \n",
      "\n",
      "kappa score = 0.5229169426414094 \n",
      " \n",
      "\n",
      "AUC Score = 0.776048951048951 \n",
      " \n",
      "\n",
      "recall = 0.65 \n",
      " \n",
      "\n",
      "precision = 0.9027777777777778 \n",
      " \n",
      "\n"
     ]
    }
   ],
   "source": [
    "#test on the test data\n",
    "tuned_model = RandomForestClassifier(n_estimators = 60, max_depth=10, random_state=27, max_features='sqrt')\n",
    "X_trainVal=np.concatenate((select_X_train, select_X_val),axis=0)\n",
    "y_trainVal=np.concatenate((y_train, y_val),axis=0)\n",
    "tuned_model.fit(X_trainVal, y_trainVal)\n",
    "y_pred = tuned_model.predict(select_X_test)\n",
    "predictions = [round(value) for value in y_pred]\n",
    "fpr, tpr, thresholds = metrics.roc_curve(y_test, predictions, pos_label=1)\n",
    "accuracy = accuracy_score(y_test, predictions)\n",
    "cm = confusion_matrix(y_test, predictions)\n",
    "print(confusion_matrix(y_test, predictions))\n",
    "\n",
    "kappa = cohen_kappa_score(y_test, predictions)\n",
    "acc = float(cm[0][0] + cm[1][1]) / len(y_test)\n",
    "auc = metrics.auc(fpr, tpr)\n",
    "recall = tpr[1]\n",
    "precis = float(cm[1][1]) / (cm[1][1] + cm[0][1])\n",
    "\n",
    "print('Final Test Data Results')\n",
    "print(\"Thresh=%f, n=%d\" % (thres.iloc[0]['Thresh'], select_X_test.shape[1]))\n",
    "print('Accuracy = {0} \\n \\n'.format(acc))\n",
    "print('kappa score = {0} \\n \\n'.format(kappa))\n",
    "print('AUC Score = {0} \\n \\n'.format(auc))\n",
    "print('recall = {0} \\n \\n'.format(recall))\n",
    "print('precision = {0} \\n \\n'.format(precis))"
   ]
  },
  {
   "cell_type": "code",
   "execution_count": 18,
   "metadata": {
    "collapsed": false
   },
   "outputs": [
    {
     "name": "stdout",
     "output_type": "stream",
     "text": [
      "321 - EMS call, excluding vehicle accident with injury       0.052666\n",
      "amount                                                       0.045760\n",
      "Allegheny County Tax Lien                                    0.044726\n",
      "City & School Tax Lien                                       0.031941\n",
      "311 - Medical assist, assist EMS crew                        0.026710\n",
      "6111 - Dispatched & cancelled on arrival                     0.025375\n",
      "Estimate!!Total!!Owner occupied!!Moved in 1979 or earlier    0.023257\n",
      "FAIRMARKETBUILDING                                           0.019745\n",
      "600 - Good intent call, Other                                0.018421\n",
      "SALEPRICE                                                    0.017841\n",
      "611 - Dispatched & cancelled en route                        0.016489\n",
      "FAIRMARKETLAND                                               0.016218\n",
      "City of Pittsburgh Tax Lien                                  0.015600\n",
      "Estimate!!Total!!Owner occupied                              0.015170\n",
      "Estimate!!Total!!Built 1939 or earlier                       0.014485\n",
      "Estimate!!Total!!Occupied                                    0.013475\n",
      "Estimate!!Total!!Vacant                                      0.013261\n",
      "Estimate!!Total!!Owner occupied!!Moved in 1990 to 1999       0.012737\n",
      "Estimate!!Total!!Owner occupied!!Moved in 1980 to 1989       0.012625\n",
      "LOTAREA                                                      0.012313\n",
      "dtype: float64\n"
     ]
    }
   ],
   "source": [
    "# use full dataset to get top 20 features (needs to be changed to tuned model)\n",
    "important_features = pd.Series(data=model.feature_importances_,\n",
    "                               index=traindata.drop(['fire'], axis =1).columns)\n",
    "important_features.sort_values(ascending=False,inplace=True)\n",
    "# top 20 features\n",
    "print(important_features[0:20])"
   ]
  },
  {
   "cell_type": "code",
   "execution_count": 19,
   "metadata": {
    "collapsed": false
   },
   "outputs": [
    {
     "data": {
      "image/png": "[encoded data removed]",
      "text/plain": [
       "<matplotlib.figure.Figure at 0x25923a17240>"
      ]
     },
     "metadata": {},
     "output_type": "display_data"
    }
   ],
   "source": [
    "# Plotting the top 20 features\n",
    "y_pos = np.arange(len(important_features.index[0:20]))\n",
    "plt.figure(figsize=(20,30))\n",
    "plt.bar(y_pos,important_features.values[0:20], alpha=0.3)\n",
    "plt.xticks(y_pos, important_features.index[0:20], rotation = (90),fontsize = 9, ha='left')\n",
    "plt.ylabel('Feature Importance Scores')\n",
    "plt.title('Feature Importance')\n",
    "\n",
    "features_png = \"{0}FeatureImportancePlot_{1}.png\".format(png_path, datetime.datetime.now().strftime('%m%d-%H%M%S'), 'a')\n",
    "plt.savefig(features_png, dpi=150)\n",
    "plt.show()\n",
    "\n",
    "# Write model performance to log file:\n",
    "log_path = os.path.join(curr_path, \"log/\")\n",
    "important_features[0:50].to_csv('{0}FeatureImportanceList_{1}.csv'.format(log_path, datetime.datetime.now().strftime('%m%d-%H%M%S')), 'a')"
   ]
  },
  {
   "cell_type": "code",
   "execution_count": 20,
   "metadata": {
    "collapsed": false,
    "scrolled": false
   },
   "outputs": [
    {
     "name": "stdout",
     "output_type": "stream",
     "text": [
      "RandomForestClassifier(bootstrap=True, class_weight=None, criterion='gini',\n",
      "            max_depth=10, max_features='sqrt', max_leaf_nodes=None,\n",
      "            min_impurity_decrease=0.0, min_impurity_split=None,\n",
      "            min_samples_leaf=1, min_samples_split=2,\n",
      "            min_weight_fraction_leaf=0.0, n_estimators=60, n_jobs=1,\n",
      "            oob_score=False, random_state=27, verbose=0, warm_start=False)\n"
     ]
    },
    {
     "data": {
      "image/png": "[encoded data removed]",
      "text/plain": [
       "<matplotlib.figure.Figure at 0x2592d31ed68>"
      ]
     },
     "metadata": {},
     "output_type": "display_data"
    }
   ],
   "source": [
    "# plot ROC curve\n",
    "from scipy import interp\n",
    "d=0\n",
    "\n",
    "print(tuned_model)\n",
    "tprs = []\n",
    "aucs = []\n",
    "mean_fpr = np.linspace(0, 1, 100)\n",
    "# 7-fold time series cv because training data contains 8 years of records.\n",
    "tscv =TimeSeriesSplit(n_splits=7) \n",
    "# cv = KFold(n_splits=10)\n",
    "i = 0\n",
    "plt.figure(figsize=(8,6))\n",
    "for train, test in tscv.split(select_X_train, y_train):\n",
    "    probas_ = tuned_model.fit(select_X_train[train], y_train[train]).predict_proba(select_X_train[test])\n",
    "    # Compute ROC curve and area the curve\n",
    "    fpr, tpr, thresholds = metrics.roc_curve(y_train[test], probas_[:,1])\n",
    "    tprs.append(interp(mean_fpr, fpr, tpr))\n",
    "    tprs[-1][0] = 0.0\n",
    "    roc_auc = metrics.auc(fpr, tpr)\n",
    "    aucs.append(roc_auc)\n",
    "    plt.plot(fpr, tpr, lw=1, alpha=0.3,\n",
    "             label='ROC fold %d (AUC = %0.2f)' % (i, roc_auc))\n",
    "\n",
    "    i += 1\n",
    "plt.plot([0, 1], [0, 1], linestyle='--', lw=2, color='r',\n",
    "        label='Luck', alpha=.8)\n",
    "\n",
    "mean_tpr = np.mean(tprs, axis=0)\n",
    "mean_tpr[-1] = 1.0\n",
    "mean_auc = metrics.auc(mean_fpr, mean_tpr)\n",
    "std_auc = np.std(aucs)\n",
    "plt.plot(mean_fpr, mean_tpr, color='b',\n",
    "        label=r'Mean ROC (AUC = %0.2f $\\pm$ %0.2f)' % (mean_auc, std_auc),\n",
    "        lw=2, alpha=.8)\n",
    "\n",
    "std_tpr = np.std(tprs, axis=0)\n",
    "tprs_upper = np.minimum(mean_tpr + std_tpr, 1)\n",
    "tprs_lower = np.maximum(mean_tpr - std_tpr, 0)\n",
    "plt.fill_between(mean_fpr, tprs_lower, tprs_upper, color='grey', alpha=.2,\n",
    "                label=r'$\\pm$ 1 std. dev.')\n",
    "\n",
    "plt.xlim([-0.05, 1.05])\n",
    "plt.ylim([-0.05, 1.05])\n",
    "plt.xlabel('False Positive Rate')\n",
    "plt.ylabel('True Positive Rate')\n",
    "#     plt.title('Receiver operating characteristic example')\n",
    "plt.legend(loc=\"lower right\")\n",
    "roc_png = \"{0}roc_{1}.png\".format(png_path, datetime.datetime.now().strftime('%m%d-%H%M%S'), 'a')\n",
    "plt.savefig(roc_png)\n",
    "plt.show()"
   ]
  },
  {
   "cell_type": "code",
   "execution_count": null,
   "metadata": {
    "collapsed": true
   },
   "outputs": [],
   "source": []
  }
 ],
 "metadata": {
  "anaconda-cloud": {},
  "kernelspec": {
   "display_name": "Python [conda env:crookshanks]",
   "language": "python",
   "name": "conda-env-crookshanks-py"
  },
  "language_info": {
   "codemirror_mode": {
    "name": "ipython",
    "version": 3
   },
   "file_extension": ".py",
   "mimetype": "text/x-python",
   "name": "python",
   "nbconvert_exporter": "python",
   "pygments_lexer": "ipython3",
   "version": "3.5.2"
  }
 },
 "nbformat": 4,
 "nbformat_minor": 1
}
